{
 "cells": [
  {
   "cell_type": "code",
   "execution_count": 1,
   "id": "7b7335db-aa98-4503-bfd0-6db34d311095",
   "metadata": {},
   "outputs": [],
   "source": [
    "#Import library numpy, pandas dan scikit-learn\n",
    "import numpy as np\n",
    "import pandas as pd\n",
    "from sklearn import tree"
   ]
  },
  {
   "cell_type": "code",
   "execution_count": 12,
   "id": "2000a117-08c2-4730-b65d-905b8a532db0",
   "metadata": {},
   "outputs": [
    {
     "data": {
      "text/html": [
       "<div>\n",
       "<style scoped>\n",
       "    .dataframe tbody tr th:only-of-type {\n",
       "        vertical-align: middle;\n",
       "    }\n",
       "\n",
       "    .dataframe tbody tr th {\n",
       "        vertical-align: top;\n",
       "    }\n",
       "\n",
       "    .dataframe thead th {\n",
       "        text-align: right;\n",
       "    }\n",
       "</style>\n",
       "<table border=\"1\" class=\"dataframe\">\n",
       "  <thead>\n",
       "    <tr style=\"text-align: right;\">\n",
       "      <th></th>\n",
       "      <th>Id</th>\n",
       "      <th>SepalLengthCm</th>\n",
       "      <th>SepalWidthCm</th>\n",
       "      <th>PetalLengthCm</th>\n",
       "      <th>PetalWidthCm</th>\n",
       "      <th>Species</th>\n",
       "    </tr>\n",
       "  </thead>\n",
       "  <tbody>\n",
       "    <tr>\n",
       "      <th>0</th>\n",
       "      <td>1</td>\n",
       "      <td>7.00</td>\n",
       "      <td>3.02</td>\n",
       "      <td>4.07</td>\n",
       "      <td>1.04</td>\n",
       "      <td>Iris-versicolor</td>\n",
       "    </tr>\n",
       "    <tr>\n",
       "      <th>1</th>\n",
       "      <td>2</td>\n",
       "      <td>6.04</td>\n",
       "      <td>3.02</td>\n",
       "      <td>4.05</td>\n",
       "      <td>1.05</td>\n",
       "      <td>Iris-versicolor</td>\n",
       "    </tr>\n",
       "    <tr>\n",
       "      <th>2</th>\n",
       "      <td>3</td>\n",
       "      <td>6.09</td>\n",
       "      <td>3.01</td>\n",
       "      <td>4.09</td>\n",
       "      <td>1.05</td>\n",
       "      <td>Iris-versicolor</td>\n",
       "    </tr>\n",
       "    <tr>\n",
       "      <th>3</th>\n",
       "      <td>4</td>\n",
       "      <td>5.05</td>\n",
       "      <td>2.03</td>\n",
       "      <td>4.00</td>\n",
       "      <td>1.03</td>\n",
       "      <td>Iris-versicolor</td>\n",
       "    </tr>\n",
       "    <tr>\n",
       "      <th>4</th>\n",
       "      <td>5</td>\n",
       "      <td>6.05</td>\n",
       "      <td>2.08</td>\n",
       "      <td>4.06</td>\n",
       "      <td>1.05</td>\n",
       "      <td>Iris-versicolor</td>\n",
       "    </tr>\n",
       "  </tbody>\n",
       "</table>\n",
       "</div>"
      ],
      "text/plain": [
       "   Id  SepalLengthCm  SepalWidthCm  PetalLengthCm  PetalWidthCm  \\\n",
       "0   1           7.00          3.02           4.07          1.04   \n",
       "1   2           6.04          3.02           4.05          1.05   \n",
       "2   3           6.09          3.01           4.09          1.05   \n",
       "3   4           5.05          2.03           4.00          1.03   \n",
       "4   5           6.05          2.08           4.06          1.05   \n",
       "\n",
       "           Species  \n",
       "0  Iris-versicolor  \n",
       "1  Iris-versicolor  \n",
       "2  Iris-versicolor  \n",
       "3  Iris-versicolor  \n",
       "4  Iris-versicolor  "
      ]
     },
     "execution_count": 12,
     "metadata": {},
     "output_type": "execute_result"
    }
   ],
   "source": [
    "#Membaca Dataset dari File ke Pandas dataFrame\n",
    "irisDataset = pd.read_csv('Dataset_Iris.csv', delimiter=';', header=0)\n",
    "irisDataset.head()"
   ]
  },
  {
   "cell_type": "code",
   "execution_count": 3,
   "id": "6f64b4f2-d322-4697-bceb-25f0a9ecbd49",
   "metadata": {},
   "outputs": [],
   "source": [
    "#Mengubah kelas (kolom \"Species\") dari String ke Unique-Integer\n",
    "irisDataset[\"Species\"] = pd.factorize(irisDataset.Species)[0]"
   ]
  },
  {
   "cell_type": "code",
   "execution_count": 4,
   "id": "64624758-ca19-47b5-beb4-69dcc191a60c",
   "metadata": {},
   "outputs": [],
   "source": [
    "#Menghapus kolom \"Id\"\n",
    "irisDataset = irisDataset.drop(labels=\"Id\", axis=1)"
   ]
  },
  {
   "cell_type": "code",
   "execution_count": 5,
   "id": "92df1cb7-8839-4d79-9857-e1914601fae4",
   "metadata": {},
   "outputs": [],
   "source": [
    "#Mengubah dataFrame ke array Numpy\n",
    "irisDataset = irisDataset.to_numpy()"
   ]
  },
  {
   "cell_type": "code",
   "execution_count": 6,
   "id": "78207cc8-acfb-4cc4-b3bd-154b7e9d768f",
   "metadata": {},
   "outputs": [],
   "source": [
    "#Membagi Dataset => 80 baris data untuk training dan 20 baris data untuk testing\n",
    "dataTraining = np.concatenate((irisDataset[0:40, :], irisDataset[50:90, :]), axis=0)\n",
    "dataTesting = np.concatenate((irisDataset[40:50, :], irisDataset[90:100, :]), axis=0)"
   ]
  },
  {
   "cell_type": "code",
   "execution_count": 7,
   "id": "9876ca44-415c-4b58-8a94-f283f29a3c6e",
   "metadata": {},
   "outputs": [],
   "source": [
    "#Memecah Dataset ke Input dan Label\n",
    "inputTraining = dataTraining[:, 0:4]\n",
    "inputTesting = dataTesting[:, 0:4]\n",
    "labelTraining = dataTraining[:, 4]\n",
    "labelTesting = dataTesting[:, 4]"
   ]
  },
  {
   "cell_type": "code",
   "execution_count": 8,
   "id": "b4682ceb-2dc1-4fb6-a1e1-eebccb228d0f",
   "metadata": {},
   "outputs": [],
   "source": [
    "#Mendefinisikan Decision Tree Classifier\n",
    "model = tree.DecisionTreeClassifier()"
   ]
  },
  {
   "cell_type": "code",
   "execution_count": 9,
   "id": "750431b0-b6c2-44b7-9465-5af27be15c96",
   "metadata": {},
   "outputs": [],
   "source": [
    "#Mentraining Model\n",
    "model = model.fit(inputTraining, labelTraining)"
   ]
  },
  {
   "cell_type": "code",
   "execution_count": 10,
   "id": "46df44db-72f1-4c10-af23-1a69298c27a0",
   "metadata": {},
   "outputs": [
    {
     "name": "stdout",
     "output_type": "stream",
     "text": [
      "Label Sebenarnya :  [0. 0. 0. 0. 0. 0. 0. 0. 0. 0. 1. 1. 1. 1. 1. 1. 1. 1. 1. 1.]\n",
      "Hasil Prediksi :  [0. 0. 0. 0. 0. 0. 0. 0. 0. 0. 1. 1. 1. 1. 1. 1. 1. 1. 1. 1.]\n"
     ]
    }
   ],
   "source": [
    "#Memprediksi Input Data Testing\n",
    "hasilPrediksi = model.predict(inputTesting)\n",
    "print(\"Label Sebenarnya : \", labelTesting)\n",
    "print(\"Hasil Prediksi : \", hasilPrediksi)"
   ]
  },
  {
   "cell_type": "code",
   "execution_count": 11,
   "id": "073c1281-0c92-4246-91af-ce5156589c66",
   "metadata": {},
   "outputs": [
    {
     "name": "stdout",
     "output_type": "stream",
     "text": [
      "Prediksi Benar : 20 data\n",
      "Prediksi Salah : 0 data\n",
      "Akurasi : 100.0 %\n"
     ]
    }
   ],
   "source": [
    "#Menghitung Akurasi\n",
    "prediksiBenar = (hasilPrediksi == labelTesting).sum()\n",
    "prediksiSalah = (hasilPrediksi != labelTesting).sum()\n",
    "print(\"Prediksi Benar :\", prediksiBenar, \"data\")\n",
    "print(\"Prediksi Salah :\", prediksiSalah, \"data\")\n",
    "print(\"Akurasi :\", prediksiBenar/(prediksiBenar+prediksiSalah) * 100, \"%\")"
   ]
  },
  {
   "cell_type": "code",
   "execution_count": null,
   "id": "734056bc-1ed6-4104-9ad9-0c390c025571",
   "metadata": {},
   "outputs": [],
   "source": []
  }
 ],
 "metadata": {
  "kernelspec": {
   "display_name": "Python 3 (ipykernel)",
   "language": "python",
   "name": "python3"
  },
  "language_info": {
   "codemirror_mode": {
    "name": "ipython",
    "version": 3
   },
   "file_extension": ".py",
   "mimetype": "text/x-python",
   "name": "python",
   "nbconvert_exporter": "python",
   "pygments_lexer": "ipython3",
   "version": "3.11.1"
  }
 },
 "nbformat": 4,
 "nbformat_minor": 5
}
