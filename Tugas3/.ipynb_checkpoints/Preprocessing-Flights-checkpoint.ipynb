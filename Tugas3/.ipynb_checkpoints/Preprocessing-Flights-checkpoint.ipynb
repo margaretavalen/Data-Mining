{
 "cells": [
  {
   "cell_type": "markdown",
   "id": "1adae0dd-58e2-457d-aae3-c2218e83f1fb",
   "metadata": {},
   "source": [
    "# PREPROCESSING DATA PENERBANGAN\n",
    "Margareta Valencia (A11.2022.14704)"
   ]
  },
  {
   "cell_type": "markdown",
   "id": "5da95323-75f8-4bc3-be4c-de099daa3e77",
   "metadata": {},
   "source": [
    "### Import Library"
   ]
  },
  {
   "cell_type": "code",
   "execution_count": 1,
   "id": "9e126785-c6fd-4ffe-add4-75a479d2eba7",
   "metadata": {},
   "outputs": [],
   "source": [
    "import numpy as np\n",
    "import matplotlib.pyplot as plt\n",
    "import pandas as pd"
   ]
  },
  {
   "cell_type": "markdown",
   "id": "d80a827c-3912-41a9-9442-74240b514c1c",
   "metadata": {},
   "source": [
    "### Import Dataset"
   ]
  },
  {
   "cell_type": "code",
   "execution_count": 2,
   "id": "3f19fa8f-1ae7-486b-92eb-e685338d5eaa",
   "metadata": {},
   "outputs": [
    {
     "name": "stdout",
     "output_type": "stream",
     "text": [
      "   id  year  month  day  dep_time  sched_dep_time  dep_delay  arr_time  \\\n",
      "0   0  2013      1    1     517.0             515        2.0     830.0   \n",
      "1   1  2013      1    1     533.0             529        4.0     850.0   \n",
      "2   2  2013      1    1     542.0             540        2.0     923.0   \n",
      "3   3  2013      1    1     544.0             545       -1.0    1004.0   \n",
      "4   4  2013      1    1     554.0             600       -6.0     812.0   \n",
      "\n",
      "   sched_arr_time  arr_delay  ... flight  tailnum origin dest air_time  \\\n",
      "0             819       11.0  ...   1545   N14228    EWR  IAH    227.0   \n",
      "1             830       20.0  ...   1714   N24211    LGA  IAH    227.0   \n",
      "2             850       33.0  ...   1141   N619AA    JFK  MIA    160.0   \n",
      "3            1022      -18.0  ...    725   N804JB    JFK  BQN    183.0   \n",
      "4             837      -25.0  ...    461   N668DN    LGA  ATL    116.0   \n",
      "\n",
      "   distance  hour  minute            time_hour                    name  \n",
      "0      1400     5      15  2013-01-01 05:00:00   United Air Lines Inc.  \n",
      "1      1416     5      29  2013-01-01 05:00:00   United Air Lines Inc.  \n",
      "2      1089     5      40  2013-01-01 05:00:00  American Airlines Inc.  \n",
      "3      1576     5      45  2013-01-01 05:00:00         JetBlue Airways  \n",
      "4       762     6       0  2013-01-01 06:00:00    Delta Air Lines Inc.  \n",
      "\n",
      "[5 rows x 21 columns]\n"
     ]
    }
   ],
   "source": [
    "df = pd.read_csv('flights.csv')\n",
    "print(df.head())"
   ]
  },
  {
   "cell_type": "code",
   "execution_count": 3,
   "id": "890562d3-9d21-4e94-b09e-0981a8a95978",
   "metadata": {},
   "outputs": [],
   "source": [
    "# Memisahkan fitur (X) dan target (y)\n",
    "X = df.iloc[:, :-1].values\n",
    "y = df.iloc[:, -1].values"
   ]
  },
  {
   "cell_type": "code",
   "execution_count": 4,
   "id": "df04e705-3fd2-4cd9-a085-0523ec1d278e",
   "metadata": {},
   "outputs": [
    {
     "name": "stdout",
     "output_type": "stream",
     "text": [
      "[[0 2013 1 ... 5 15 '2013-01-01 05:00:00']\n",
      " [1 2013 1 ... 5 29 '2013-01-01 05:00:00']\n",
      " [2 2013 1 ... 5 40 '2013-01-01 05:00:00']\n",
      " ...\n",
      " [336773 2013 9 ... 12 10 '2013-09-30 12:00:00']\n",
      " [336774 2013 9 ... 11 59 '2013-09-30 11:00:00']\n",
      " [336775 2013 9 ... 8 40 '2013-09-30 08:00:00']]\n"
     ]
    }
   ],
   "source": [
    "print(X)"
   ]
  },
  {
   "cell_type": "markdown",
   "id": "64c1921f-f131-40bb-8ff7-6ab79cb166aa",
   "metadata": {},
   "source": [
    "### Menghilangkan Missing Value"
   ]
  },
  {
   "cell_type": "code",
   "execution_count": 5,
   "id": "43dc56db-cc38-47e0-8147-f39a04868fbb",
   "metadata": {},
   "outputs": [
    {
     "name": "stdout",
     "output_type": "stream",
     "text": [
      "arr_delay         9430\n",
      "air_time          9430\n",
      "arr_time          8713\n",
      "dep_time          8255\n",
      "dep_delay         8255\n",
      "tailnum           2512\n",
      "id                   0\n",
      "origin               0\n",
      "time_hour            0\n",
      "minute               0\n",
      "hour                 0\n",
      "distance             0\n",
      "dest                 0\n",
      "carrier              0\n",
      "flight               0\n",
      "year                 0\n",
      "sched_arr_time       0\n",
      "sched_dep_time       0\n",
      "day                  0\n",
      "month                0\n",
      "name                 0\n",
      "dtype: int64\n"
     ]
    }
   ],
   "source": [
    "# periksa nilai yang hilang\n",
    "print(df.isnull().sum().sort_values(ascending=False))"
   ]
  },
  {
   "cell_type": "code",
   "execution_count": 6,
   "id": "1a29207c-0411-46ed-bd74-a1ddf07401e6",
   "metadata": {},
   "outputs": [],
   "source": [
    "from sklearn.impute import SimpleImputer\n",
    "imputer = SimpleImputer(missing_values=np.nan, strategy='mean')\n",
    "imputer.fit(X[:, 3:6])\n",
    "X[:, 3:6] = imputer.transform(X[:, 3:6])"
   ]
  },
  {
   "cell_type": "code",
   "execution_count": 7,
   "id": "1deb8730-3859-48c6-9297-07776d987e23",
   "metadata": {},
   "outputs": [
    {
     "name": "stdout",
     "output_type": "stream",
     "text": [
      "[[0 2013 1 ... 5 15 '2013-01-01 05:00:00']\n",
      " [1 2013 1 ... 5 29 '2013-01-01 05:00:00']\n",
      " [2 2013 1 ... 5 40 '2013-01-01 05:00:00']\n",
      " ...\n",
      " [336773 2013 9 ... 12 10 '2013-09-30 12:00:00']\n",
      " [336774 2013 9 ... 11 59 '2013-09-30 11:00:00']\n",
      " [336775 2013 9 ... 8 40 '2013-09-30 08:00:00']]\n"
     ]
    }
   ],
   "source": [
    "print(X)"
   ]
  },
  {
   "cell_type": "markdown",
   "id": "e5b28699-68ea-410f-a011-3c5636e0a124",
   "metadata": {},
   "source": [
    "### Encoding Data Kategori "
   ]
  },
  {
   "cell_type": "code",
   "execution_count": 8,
   "id": "78d3f607-5c7d-4f07-9ade-c840104fdbcf",
   "metadata": {},
   "outputs": [],
   "source": [
    "from sklearn.compose import ColumnTransformer\n",
    "from sklearn.preprocessing import OneHotEncoder\n",
    "\n",
    "# Ubah kolom 'Carrier' bertipe string ke numerik menggunakan OneHotEncoder\n",
    "ct = ColumnTransformer(transformers=[('encoder', OneHotEncoder(), [2])], remainder='passthrough')\n",
    "X = np.array(ct.fit_transform(X))"
   ]
  },
  {
   "cell_type": "code",
   "execution_count": 9,
   "id": "02f944fe-86c9-42c0-8b5a-2cda8ed5ea32",
   "metadata": {},
   "outputs": [
    {
     "name": "stdout",
     "output_type": "stream",
     "text": [
      "[[1.0 0.0 0.0 ... 5 15 '2013-01-01 05:00:00']\n",
      " [1.0 0.0 0.0 ... 5 29 '2013-01-01 05:00:00']\n",
      " [1.0 0.0 0.0 ... 5 40 '2013-01-01 05:00:00']\n",
      " ...\n",
      " [0.0 0.0 0.0 ... 12 10 '2013-09-30 12:00:00']\n",
      " [0.0 0.0 0.0 ... 11 59 '2013-09-30 11:00:00']\n",
      " [0.0 0.0 0.0 ... 8 40 '2013-09-30 08:00:00']]\n"
     ]
    }
   ],
   "source": [
    "# Tampilkan hasil\n",
    "print(X)"
   ]
  },
  {
   "cell_type": "code",
   "execution_count": 10,
   "id": "2e608474-8563-4574-b980-7bd68b25baf8",
   "metadata": {},
   "outputs": [],
   "source": [
    "from sklearn.preprocessing import LabelEncoder\n",
    "# Encoding target \"Anaemic\" menggunakan LabelEncoder\n",
    "le = LabelEncoder()\n",
    "y = le.fit_transform(y)"
   ]
  },
  {
   "cell_type": "code",
   "execution_count": 11,
   "id": "08698a27-702c-4e1c-8963-9989ca4c0fb7",
   "metadata": {},
   "outputs": [
    {
     "name": "stdout",
     "output_type": "stream",
     "text": [
      "[14 14  2 ...  5  5  5]\n"
     ]
    }
   ],
   "source": [
    "print(y)"
   ]
  },
  {
   "cell_type": "markdown",
   "id": "d0162904-3fd1-4b3f-8ccf-bef79f25230d",
   "metadata": {},
   "source": [
    "### Membagi Dataset ke Dalam Training Set dan Test Set"
   ]
  },
  {
   "cell_type": "code",
   "execution_count": 12,
   "id": "f499cb05-f5ee-45c0-ae1e-4f8cd95705bb",
   "metadata": {},
   "outputs": [],
   "source": [
    "from sklearn.model_selection import train_test_split\n",
    "\n",
    "# test_size = 0.2 berarti 20% dari data akan digunakan untuk pengujian\n",
    "X_train, X_test, y_train, y_test = train_test_split(X,y, test_size = 0.2, random_state = 1)"
   ]
  },
  {
   "cell_type": "code",
   "execution_count": 13,
   "id": "acd2018f-0a38-4a8b-aa97-9ef00af20543",
   "metadata": {},
   "outputs": [
    {
     "name": "stdout",
     "output_type": "stream",
     "text": [
      "[[0.0 0.0 0.0 ... 13 40 '2013-06-17 13:00:00']\n",
      " [0.0 0.0 0.0 ... 6 10 '2013-06-11 06:00:00']\n",
      " [0.0 1.0 0.0 ... 14 59 '2013-02-07 14:00:00']\n",
      " ...\n",
      " [0.0 0.0 0.0 ... 12 26 '2013-09-04 12:00:00']\n",
      " [0.0 0.0 0.0 ... 21 5 '2013-07-18 21:00:00']\n",
      " [0.0 1.0 0.0 ... 6 52 '2013-02-20 06:00:00']]\n"
     ]
    }
   ],
   "source": [
    "print(X_train)"
   ]
  },
  {
   "cell_type": "code",
   "execution_count": 14,
   "id": "eb95f4b6-e3b7-4b9a-8c42-237e90331632",
   "metadata": {},
   "outputs": [
    {
     "name": "stdout",
     "output_type": "stream",
     "text": [
      "[[0.0 0.0 0.0 ... 14 59 '2013-12-13 14:00:00']\n",
      " [0.0 0.0 1.0 ... 22 55 '2013-03-18 22:00:00']\n",
      " [0.0 0.0 0.0 ... 17 0 '2013-06-07 17:00:00']\n",
      " ...\n",
      " [1.0 0.0 0.0 ... 19 5 '2013-01-09 19:00:00']\n",
      " [1.0 0.0 0.0 ... 9 40 '2013-01-25 09:00:00']\n",
      " [1.0 0.0 0.0 ... 8 43 '2013-01-18 08:00:00']]\n"
     ]
    }
   ],
   "source": [
    "print (X_test)"
   ]
  },
  {
   "cell_type": "code",
   "execution_count": 15,
   "id": "1a00de99-394b-4b6e-a8c3-bb4ae527d3fe",
   "metadata": {},
   "outputs": [
    {
     "name": "stdout",
     "output_type": "stream",
     "text": [
      "[ 6  3  9 ...  6  5 14]\n"
     ]
    }
   ],
   "source": [
    "print (y_train)"
   ]
  },
  {
   "cell_type": "code",
   "execution_count": 16,
   "id": "f586ec4f-3158-4bd3-80a7-3d47074c3529",
   "metadata": {},
   "outputs": [
    {
     "name": "stdout",
     "output_type": "stream",
     "text": [
      "[ 3  9  3 ... 14  2  6]\n"
     ]
    }
   ],
   "source": [
    "print (y_test)"
   ]
  }
 ],
 "metadata": {
  "kernelspec": {
   "display_name": "Python 3 (ipykernel)",
   "language": "python",
   "name": "python3"
  },
  "language_info": {
   "codemirror_mode": {
    "name": "ipython",
    "version": 3
   },
   "file_extension": ".py",
   "mimetype": "text/x-python",
   "name": "python",
   "nbconvert_exporter": "python",
   "pygments_lexer": "ipython3",
   "version": "3.11.1"
  }
 },
 "nbformat": 4,
 "nbformat_minor": 5
}
